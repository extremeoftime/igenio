{
 "cells": [
  {
   "cell_type": "code",
   "execution_count": 7,
   "metadata": {},
   "outputs": [],
   "source": [
    "from tkinter import Tk,Canvas\n",
    "root = Tk()\n",
    "root.geometry('1000x400')\n",
    "\n",
    "c = Canvas(width=460,height=460,bg='grey100')\n",
    "c.pack()\n",
    "\n"
   ]
  },
  {
   "cell_type": "code",
   "execution_count": 8,
   "metadata": {},
   "outputs": [],
   "source": [
    "oval = c.create_oval(30,10,130,80,fill='grey60',outline=\"black\")\n",
    "rect = c.create_rectangle(180,10,280,80,fill='grey50',outline=\"black\")\n",
    "trian = c.create_polygon(330,80,380,10,430,80,fill='grey80',outline=\"black\")\n",
    "\n"
   ]
  },
  {
   "cell_type": "code",
   "execution_count": 9,
   "metadata": {},
   "outputs": [],
   "source": [
    "def output(event):\n",
    "    b_trian = c.create_polygon(350,70,380,20,410,70,fill='grey1',outline=\"black\")\n",
    "\n",
    "c.tag_bind(trian,\"<Button-1>\",output)\n",
    "\n",
    "root.mainloop()"
   ]
  },
  {
   "cell_type": "code",
   "execution_count": null,
   "metadata": {},
   "outputs": [],
   "source": []
  }
 ],
 "metadata": {
  "kernelspec": {
   "display_name": "Python 3",
   "language": "python",
   "name": "python3"
  },
  "language_info": {
   "codemirror_mode": {
    "name": "ipython",
    "version": 3
   },
   "file_extension": ".py",
   "mimetype": "text/x-python",
   "name": "python",
   "nbconvert_exporter": "python",
   "pygments_lexer": "ipython3",
   "version": "3.6.4"
  }
 },
 "nbformat": 4,
 "nbformat_minor": 2
}
